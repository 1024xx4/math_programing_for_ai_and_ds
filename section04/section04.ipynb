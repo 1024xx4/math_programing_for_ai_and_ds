{
 "cells": [
  {
   "cell_type": "markdown",
   "source": [
    "### 4-1. 数理最適化問題の解き方を理解する\n",
    "配送Route を「最適化」するために必要な\n",
    "1. 問題を創る（内定化）\n",
    "    - 「総移動距離を最小にする」「総配送Cost を最小にする」など最適化したいものを明確にする。\n",
    "2. 解く\n",
    "    大まかに２通りの方法がある。\n",
    "    - 全探索（確実に正しい答えが導き出せるが、非常に計算時間がかかる。）\n",
    "    - Heuristic（高速計算が可能だが、厳密な最適解を導き出すことはできない）\n",
    "\n",
    "という Step を整理する。\n"
   ],
   "metadata": {
    "collapsed": false
   }
  },
  {
   "cell_type": "markdown",
   "source": [
    "### 4-2. 数理最適化の出発点である「内定化」を理解しよう\n",
    "実際に配送Route の最適化問題を内定化していく。\n",
    "- 目的: 配送Route の総移動距離を最小化する\n",
    "- 条件: 全倉庫間の距離は既知、各倉庫への訪問回数は１度のみ\n",
    "\n",
    "[数式](https://boostnote.io/shared/26198401-ab49-428a-b506-25b29607245a)"
   ],
   "metadata": {
    "collapsed": false
   }
  },
  {
   "cell_type": "code",
   "execution_count": null,
   "outputs": [],
   "source": [],
   "metadata": {
    "collapsed": false
   }
  }
 ],
 "metadata": {
  "kernelspec": {
   "display_name": "Python 3",
   "language": "python",
   "name": "python3"
  },
  "language_info": {
   "codemirror_mode": {
    "name": "ipython",
    "version": 2
   },
   "file_extension": ".py",
   "mimetype": "text/x-python",
   "name": "python",
   "nbconvert_exporter": "python",
   "pygments_lexer": "ipython2",
   "version": "2.7.6"
  }
 },
 "nbformat": 4,
 "nbformat_minor": 0
}
