{
 "cells": [
  {
   "cell_type": "markdown",
   "source": [
    "# Solver を利用して線形最適化問題を解いてみよう\n",
    "主婦の問題を簡単にしたものを解いていく。\n",
    "３種類の食料品と４種類の栄養素の組み合わせを考えていく。"
   ],
   "metadata": {
    "collapsed": false
   }
  },
  {
   "cell_type": "code",
   "execution_count": 1,
   "outputs": [],
   "source": [
    "import numpy as np\n",
    "import pandas as pd\n",
    "from itertools import product\n",
    "from pulp import LpVariable, lpSum, value\n",
    "from ortoolpy import model_min, addvars, addvals\n",
    "from IPython.display import display"
   ],
   "metadata": {
    "collapsed": false
   }
  },
  {
   "cell_type": "code",
   "execution_count": 7,
   "outputs": [
    {
     "name": "stdout",
     "output_type": "stream",
     "text": [
      "食料品と栄養素の関係\n"
     ]
    },
    {
     "data": {
      "text/plain": "      栄養素１  栄養素２  栄養素３  栄養素４\n食料品                         \n食料品１     0     0    90    10\n食料品２    10    50    40    70\n食料品３    80     0     0     0",
      "text/html": "<div>\n<style scoped>\n    .dataframe tbody tr th:only-of-type {\n        vertical-align: middle;\n    }\n\n    .dataframe tbody tr th {\n        vertical-align: top;\n    }\n\n    .dataframe thead th {\n        text-align: right;\n    }\n</style>\n<table border=\"1\" class=\"dataframe\">\n  <thead>\n    <tr style=\"text-align: right;\">\n      <th></th>\n      <th>栄養素１</th>\n      <th>栄養素２</th>\n      <th>栄養素３</th>\n      <th>栄養素４</th>\n    </tr>\n    <tr>\n      <th>食料品</th>\n      <th></th>\n      <th></th>\n      <th></th>\n      <th></th>\n    </tr>\n  </thead>\n  <tbody>\n    <tr>\n      <th>食料品１</th>\n      <td>0</td>\n      <td>0</td>\n      <td>90</td>\n      <td>10</td>\n    </tr>\n    <tr>\n      <th>食料品２</th>\n      <td>10</td>\n      <td>50</td>\n      <td>40</td>\n      <td>70</td>\n    </tr>\n    <tr>\n      <th>食料品３</th>\n      <td>80</td>\n      <td>0</td>\n      <td>0</td>\n      <td>0</td>\n    </tr>\n  </tbody>\n</table>\n</div>"
     },
     "metadata": {},
     "output_type": "display_data"
    },
    {
     "name": "stdout",
     "output_type": "stream",
     "text": [
      "食料品の価格\n"
     ]
    },
    {
     "data": {
      "text/plain": "   食料品１  食料品２  食料品３\n0  1000   150   300",
      "text/html": "<div>\n<style scoped>\n    .dataframe tbody tr th:only-of-type {\n        vertical-align: middle;\n    }\n\n    .dataframe tbody tr th {\n        vertical-align: top;\n    }\n\n    .dataframe thead th {\n        text-align: right;\n    }\n</style>\n<table border=\"1\" class=\"dataframe\">\n  <thead>\n    <tr style=\"text-align: right;\">\n      <th></th>\n      <th>食料品１</th>\n      <th>食料品２</th>\n      <th>食料品３</th>\n    </tr>\n  </thead>\n  <tbody>\n    <tr>\n      <th>0</th>\n      <td>1000</td>\n      <td>150</td>\n      <td>300</td>\n    </tr>\n  </tbody>\n</table>\n</div>"
     },
     "metadata": {},
     "output_type": "display_data"
    }
   ],
   "source": [
    "# 主婦の問題を Solver によって解く\n",
    "\n",
    "# Data の読み込み\n",
    "df_n = pd.read_csv('nutrition.csv', index_col='食料品')\n",
    "df_p = pd.read_csv('price.csv')\n",
    "print(\"食料品と栄養素の関係\")\n",
    "display(df_n)\n",
    "print(\"食料品の価格\")\n",
    "display(df_p)"
   ],
   "metadata": {
    "collapsed": false
   }
  },
  {
   "cell_type": "code",
   "execution_count": 8,
   "outputs": [],
   "source": [
    "# 初期設定\n",
    "np.random.seed(1)\n",
    "n_p = len(df_n.index)\n",
    "nn = len(df_n.columns)\n",
    "pr = list(range(n_p))"
   ],
   "metadata": {
    "collapsed": false
   }
  },
  {
   "cell_type": "code",
   "execution_count": 9,
   "outputs": [
    {
     "data": {
      "text/plain": "1"
     },
     "execution_count": 9,
     "metadata": {},
     "output_type": "execute_result"
    }
   ],
   "source": [
    "# 数理Model 作成\n",
    "m1 = model_min()\n",
    "# 目的関数\n",
    "v1 = {(i):LpVariable('v%d'%(i), cat='Integer', lowBound=0) for i in pr}\n",
    "# 制約条件\n",
    "m1 += lpSum(df_p.iloc[0][i] * v1[i] for i in pr)\n",
    "for j in range(nn):\n",
    "    m1 += lpSum(v1[i] * df_n.iloc[i][j] for i in range(n_p)) >= 100\n",
    "m1.solve()"
   ],
   "metadata": {
    "collapsed": false
   }
  },
  {
   "cell_type": "code",
   "execution_count": 10,
   "outputs": [
    {
     "name": "stdout",
     "output_type": "stream",
     "text": [
      "最適解\n",
      "食料品１の個数: 0個\n",
      "食料品２の個数: 3個\n",
      "食料品３の個数: 1個\n",
      "総Cost: 750円\n"
     ]
    }
   ],
   "source": [
    "# 総Cost 計算\n",
    "print(\"最適解\")\n",
    "total_cost = 0\n",
    "for k, x in v1.items():\n",
    "    i = k\n",
    "    print(f\"{df_n.index[i]}の個数: {int(value(x))}個\")\n",
    "    total_cost += df_p.iloc[0][i] * value(x)\n",
    "\n",
    "print(f\"総Cost: {int(total_cost)}円\")"
   ],
   "metadata": {
    "collapsed": false
   }
  },
  {
   "cell_type": "markdown",
   "source": [
    "## 5-3. 非線形最適化問題を解いてみよう\n",
    "正方形の形をした土地の最適な長さを求める問題を考える。\n",
    "- 目的: x の二乗と 1000 との差を最小化する\n",
    "- 条件: x は正の数"
   ],
   "metadata": {
    "collapsed": false
   }
  },
  {
   "cell_type": "code",
   "execution_count": 11,
   "outputs": [],
   "source": [
    "# 二分探索によって f(x) が 0 となる x の値を求める\n",
    "\n",
    "def f(x):\n",
    "    return x ** 2 - 1000"
   ],
   "metadata": {
    "collapsed": false
   }
  },
  {
   "cell_type": "code",
   "execution_count": 13,
   "outputs": [],
   "source": [
    "# 初期設定\n",
    "lo = -0.1\n",
    "hi = 1000.1\n",
    "eps = 1e-10  # 許容誤差"
   ],
   "metadata": {
    "collapsed": false
   }
  },
  {
   "cell_type": "code",
   "execution_count": 14,
   "outputs": [
    {
     "name": "stdout",
     "output_type": "stream",
     "text": [
      "結果: 31.622776601731587\n",
      "探索回数: 44回\n"
     ]
    }
   ],
   "source": [
    "# 二分探索を実行\n",
    "count = 0\n",
    "while hi - lo > eps:\n",
    "    x = (lo + hi) / 2\n",
    "    if f(x) >= 0:\n",
    "        hi = x\n",
    "    else:\n",
    "        lo = x\n",
    "    count += 1\n",
    "\n",
    "print(f\"結果: {hi}\")\n",
    "print(f\"探索回数: {count}回\")"
   ],
   "metadata": {
    "collapsed": false
   }
  },
  {
   "cell_type": "markdown",
   "source": [
    "二分探索：両端から範囲を２つに分けながら、少しずつ絞り込みを行なっていく方法"
   ],
   "metadata": {
    "collapsed": false
   }
  },
  {
   "cell_type": "code",
   "execution_count": 15,
   "outputs": [
    {
     "name": "stdout",
     "output_type": "stream",
     "text": [
      "結果: 31.622776601684333\n",
      "探索回数: 9回\n"
     ]
    }
   ],
   "source": [
    "# Newton法によって f(x) が 0 となる x の値を求める\n",
    "\n",
    "# Newton法の関数\n",
    "# x0, eps は Default値\n",
    "def square_root(y, x0=1, eps=1e-10):\n",
    "    x = x0\n",
    "    count = 0\n",
    "    while abs(x ** 2 - y) > eps:\n",
    "        x -= (x * x - y) / (2 * x)\n",
    "        count += 1\n",
    "    return x, count\n",
    "\n",
    "\n",
    "# Newton法の実行\n",
    "x, count = square_root(1000)\n",
    "print(f\"結果: {x}\")\n",
    "print(f\"探索回数: {count}回\")"
   ],
   "metadata": {
    "collapsed": false
   }
  },
  {
   "cell_type": "markdown",
   "source": [
    "Newton法:\n",
    "関数と x軸との交点を求める手法。関数の値が 0 になる x の値を求める方法として用いられる。"
   ],
   "metadata": {
    "collapsed": false
   }
  },
  {
   "cell_type": "markdown",
   "source": [
    "Newton法の法が二分探索に比べて高速に計算ができた。"
   ],
   "metadata": {
    "collapsed": false
   }
  },
  {
   "cell_type": "code",
   "execution_count": null,
   "outputs": [],
   "source": [],
   "metadata": {
    "collapsed": false
   }
  }
 ],
 "metadata": {
  "kernelspec": {
   "display_name": "Python 3",
   "language": "python",
   "name": "python3"
  },
  "language_info": {
   "codemirror_mode": {
    "name": "ipython",
    "version": 2
   },
   "file_extension": ".py",
   "mimetype": "text/x-python",
   "name": "python",
   "nbconvert_exporter": "python",
   "pygments_lexer": "ipython2",
   "version": "2.7.6"
  }
 },
 "nbformat": 4,
 "nbformat_minor": 0
}
