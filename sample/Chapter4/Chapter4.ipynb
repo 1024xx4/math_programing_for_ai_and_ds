{
 "nbformat": 4,
 "nbformat_minor": 0,
 "metadata": {
  "accelerator": "GPU",
  "colab": {
   "name": "4章_最適化問題を解く流れを理解しよう.ipynb",
   "provenance": [],
   "collapsed_sections": [
    "URh0itIxCH4_",
    "jz-0YmJ6CH4_"
   ],
   "toc_visible": true
  },
  "kernelspec": {
   "display_name": "Python 3",
   "language": "python",
   "name": "python3"
  },
  "language_info": {
   "codemirror_mode": {
    "name": "ipython",
    "version": 3
   },
   "file_extension": ".py",
   "mimetype": "text/x-python",
   "name": "python",
   "nbconvert_exporter": "python",
   "pygments_lexer": "ipython3",
   "version": "3.8.5-final"
  }
 },
 "cells": [
  {
   "cell_type": "markdown",
   "metadata": {
    "id": "i0AhrJWNCH40"
   },
   "source": [
    "# 4章 最適化問題を解く流れを理解しよう \n",
    "ここでは、巡回セールスマン問題を例に、最適化の基本的な考え方を学んでいきます。"
   ]
  },
  {
   "cell_type": "code",
   "metadata": {
    "id": "v1-WVT_ECH45"
   },
   "source": [
    "#Colaboratory環境の設定\n",
    "from google.colab import drive\n",
    "drive.mount('/content/drive')\n",
    "%cd /content/drive/MyDrive/MathProgramming/Chapter4"
   ],
   "execution_count": null,
   "outputs": []
  },
  {
   "cell_type": "code",
   "metadata": {
    "id": "pbaSrDxoCH46"
   },
   "source": [
    "#ライブラリの設定\n",
    "!pip install -q -r ./requirements.txt"
   ],
   "execution_count": null,
   "outputs": []
  },
  {
   "cell_type": "markdown",
   "metadata": {
    "id": "Ze_CSpOyCH46"
   },
   "source": [
    "## 4-3. 全探索を行ってみよう"
   ]
  },
  {
   "cell_type": "code",
   "metadata": {
    "id": "x1vNurELCH46"
   },
   "source": [
    "import numpy as np \n",
    "np.random.seed(100)\n",
    "import networkx as nx \n",
    "import matplotlib.pyplot as plt \n",
    "import pandas as pd \n",
    "\n",
    "# 頂点数を8とする\n",
    "n = 8\n",
    "\n",
    "# 各地点の座標を読み込む\n",
    "vertices = pd.read_csv('vertices.csv').values \n",
    "print('倉庫の座標')\n",
    "print(vertices)\n",
    "\n",
    "# グラフの作成\n",
    "g = nx.DiGraph()\n",
    "\n",
    "# n個の頂点をグラフに追加\n",
    "g.add_nodes_from(range(n))\n",
    "\n",
    "# 頂点座標の情報をグラフに追加しやすい形に整形\n",
    "pos = dict(enumerate(zip(vertices[:, 0], vertices[:, 1])))\n",
    "\n",
    "# グラフを描画\n",
    "nx.draw_networkx(g, pos=pos, node_color='c')\n",
    "print('倉庫の位置関係')\n",
    "plt.show()"
   ],
   "execution_count": 1,
   "outputs": [
    {
     "name": "stdout",
     "output_type": "stream",
     "text": [
      "倉庫の座標\n",
      "[[ 9 25]\n",
      " [68 88]\n",
      " [80 49]\n",
      " [11 95]\n",
      " [53 99]\n",
      " [54 67]\n",
      " [99 15]\n",
      " [35 25]]\n",
      "倉庫の位置関係\n"
     ]
    },
    {
     "data": {
      "text/plain": "<Figure size 640x480 with 1 Axes>",
      "image/png": "[encoded data removed]"
     },
     "metadata": {},
     "output_type": "display_data"
    }
   ]
  },
  {
   "cell_type": "markdown",
   "metadata": {
    "id": "CMLVeUh1CH48"
   },
   "source": [
    "### 距離を求める"
   ]
  },
  {
   "cell_type": "code",
   "metadata": {
    "id": "ZNbuEC1yCH48"
   },
   "source": [
    "# 頂点感の距離をマトリックスで表す\n",
    "graph = np.linalg.norm(\n",
    "    vertices[:, None] - vertices[None, :],\n",
    "    axis=-1,\n",
    ")\n",
    "# graph(5, 3) は、頂点5から頂点3への距離\n",
    "# graph(0, 7) は 頂点0から頂点7への距離\n",
    "\n",
    "# わかりやすさのため小数点以下は切り捨て\n",
    "graph = graph.astype(int)\n",
    "\n",
    "print('倉庫間距離のマトリックス')\n",
    "print(graph)"
   ],
   "execution_count": null,
   "outputs": []
  },
  {
   "cell_type": "code",
   "metadata": {
    "id": "oXSvDEhUCH48"
   },
   "source": [
    "from itertools import permutations\n",
    "\n",
    "# 始点(終点)を決める\n",
    "src = 0\n",
    "\n",
    "# 経路を全列挙(始点は除いて列挙しておく)\n",
    "routes = np.array([*permutations(range(1, 8))]).T\n",
    "\n",
    "# 経路数を出力\n",
    "m = routes.shape[1] \n",
    "print(f'経路数: {m}')\n",
    "\n",
    "# 始点を最初と最後に追加\n",
    "routes = np.pad(routes, pad_width=((1,1), (0,0)), constant_values=src)\n",
    "print('経路の列挙')\n",
    "print(routes)\n",
    "\n",
    "# 各経路について、総移動距離を一括で求める\n",
    "dist = graph[routes[:-1], routes[1:]].sum(axis=0)\n",
    "print('各経路の総移動距離')\n",
    "print(dist)"
   ],
   "execution_count": 2,
   "outputs": [
    {
     "name": "stdout",
     "output_type": "stream",
     "text": [
      "経路数: 5040\n",
      "経路の列挙\n",
      "[[0 0 0 ... 0 0 0]\n",
      " [1 1 1 ... 7 7 7]\n",
      " [2 2 2 ... 6 6 6]\n",
      " ...\n",
      " [6 7 5 ... 3 1 2]\n",
      " [7 6 7 ... 1 2 1]\n",
      " [0 0 0 ... 0 0 0]]\n"
     ]
    },
    {
     "ename": "NameError",
     "evalue": "name 'graph' is not defined",
     "output_type": "error",
     "traceback": [
      "\u001B[1;31m---------------------------------------------------------------------------\u001B[0m",
      "\u001B[1;31mNameError\u001B[0m                                 Traceback (most recent call last)",
      "Cell \u001B[1;32mIn [2], line 19\u001B[0m\n\u001B[0;32m     16\u001B[0m \u001B[38;5;28mprint\u001B[39m(routes)\n\u001B[0;32m     18\u001B[0m \u001B[38;5;66;03m# 各経路について、総移動距離を一括で求める\u001B[39;00m\n\u001B[1;32m---> 19\u001B[0m dist \u001B[38;5;241m=\u001B[39m \u001B[43mgraph\u001B[49m[routes[:\u001B[38;5;241m-\u001B[39m\u001B[38;5;241m1\u001B[39m], routes[\u001B[38;5;241m1\u001B[39m:]]\u001B[38;5;241m.\u001B[39msum(axis\u001B[38;5;241m=\u001B[39m\u001B[38;5;241m0\u001B[39m)\n\u001B[0;32m     20\u001B[0m \u001B[38;5;28mprint\u001B[39m(\u001B[38;5;124m'\u001B[39m\u001B[38;5;124m各経路の総移動距離\u001B[39m\u001B[38;5;124m'\u001B[39m)\n\u001B[0;32m     21\u001B[0m \u001B[38;5;28mprint\u001B[39m(dist)\n",
      "\u001B[1;31mNameError\u001B[0m: name 'graph' is not defined"
     ]
    }
   ]
  },
  {
   "cell_type": "code",
   "metadata": {
    "id": "TPE_qu0dCH49"
   },
   "source": [
    "print(f'最短距離: {dist.min()}')"
   ],
   "execution_count": null,
   "outputs": []
  },
  {
   "cell_type": "code",
   "metadata": {
    "id": "w-87UL9FCH49"
   },
   "source": [
    "# 経路を移動距離の短い順にソート\n",
    "i = np.argsort(dist)\n",
    "routes = routes[:, i]\n",
    "dist = dist[i]\n",
    "print('経路を短い順に並び替える')\n",
    "print(dist)\n",
    "\n",
    "path = routes[:, 0]\n",
    "print(f'最短経路: {path}')\n",
    "print(f'最短距離: {dist[0]}')"
   ],
   "execution_count": null,
   "outputs": []
  },
  {
   "cell_type": "markdown",
   "metadata": {
    "id": "zSqjIFWFCH49"
   },
   "source": [
    "### これを可視化してみる"
   ]
  },
  {
   "cell_type": "code",
   "metadata": {
    "id": "UoxLVIbuCH4-"
   },
   "source": [
    "for i in range(n):\n",
    "    nx.draw_networkx(g, pos=pos, node_color='c')\n",
    "    plt.show()\n",
    "    g.add_edge(path[i], path[i+1])\n",
    "nx.draw_networkx(g, pos=pos, node_color='c')\n",
    "plt.show()\n",
    "\n",
    "\n",
    "for i in range(n):\n",
    "    g.remove_edge(path[i], path[i+1])"
   ],
   "execution_count": null,
   "outputs": []
  },
  {
   "cell_type": "markdown",
   "metadata": {
    "id": "RGjy3e4VCH4-"
   },
   "source": [
    "## 4-4. アルゴリズムによる問題の解き方を理解しよう "
   ]
  },
  {
   "cell_type": "markdown",
   "metadata": {
    "id": "P2gCyzIWCH4-"
   },
   "source": [
    "### for文で和を求める"
   ]
  },
  {
   "cell_type": "code",
   "metadata": {
    "id": "YuxZQKmDCH4_"
   },
   "source": [
    "# nを100とする\n",
    "n = 100\n",
    "s = sum(i for i in range(1, n+1))\n",
    "print(f'和: {s}')"
   ],
   "execution_count": null,
   "outputs": []
  },
  {
   "cell_type": "markdown",
   "metadata": {
    "id": "URh0itIxCH4_"
   },
   "source": [
    "### 和の公式により求める"
   ]
  },
  {
   "cell_type": "code",
   "metadata": {
    "id": "MGp2sFYBCH4_"
   },
   "source": [
    "n = 10\n",
    "s = (1+n)*n//2 \n",
    "print(f'和: {s}')"
   ],
   "execution_count": null,
   "outputs": []
  },
  {
   "cell_type": "markdown",
   "metadata": {
    "id": "jz-0YmJ6CH4_"
   },
   "source": [
    "### nが大きい場合"
   ]
  },
  {
   "cell_type": "code",
   "metadata": {
    "id": "CkGlMdvlCH5A"
   },
   "source": [
    "n = 10000\n",
    "s = (1+n)*n//2\n",
    "print(f'和: {s}')"
   ],
   "execution_count": null,
   "outputs": []
  },
  {
   "cell_type": "markdown",
   "metadata": {
    "id": "fLNm3-J8CH5A"
   },
   "source": [
    "## 4-6. 動的計画法のソースコードを理解しよう "
   ]
  },
  {
   "cell_type": "markdown",
   "metadata": {
    "id": "muQqyqgTCH5A"
   },
   "source": [
    "### Graphクラス"
   ]
  },
  {
   "cell_type": "code",
   "metadata": {
    "id": "phORaxfSCH5A"
   },
   "source": [
    "from itertools import combinations \n",
    "import pandas as pd \n",
    "import random\n",
    "inf = float('inf')\n",
    "\n",
    "class Graph:\n",
    "    class Edge:\n",
    "        def __init__(self, weight=1, **args):\n",
    "            self.weight = weight\n",
    "        \n",
    "        def __repr__(self):\n",
    "            return f'{self.weight}'\n",
    "        \n",
    "    \n",
    "    def __init__(self, n):\n",
    "        self.N = n\n",
    "        self.edges = [{} for _ in range(n)]\n",
    "    \n",
    "    \n",
    "    # 辺を追加\n",
    "    def add_edge(self, u, v, **args):\n",
    "        self.edges[u][v] = self.Edge(**args)\n",
    "            \n",
    "    \n",
    "    @classmethod \n",
    "    def from_csv(cls, path):\n",
    "        nodes = pd.read_csv(path).values\n",
    "        n = nodes.shape[0]\n",
    "        print(f'頂点数: {n}')\n",
    "        weights = cls.weights_from_nodes(nodes)\n",
    "        \n",
    "        g = cls(n)\n",
    "        g.generate_network(nodes)\n",
    "        \n",
    "        for u in range(n):\n",
    "            for v in range(n):\n",
    "                g.add_edge(u, v, weight=weights[u, v])                \n",
    "        return  g\n",
    "        \n",
    "    \n",
    "    @staticmethod\n",
    "    def generate_nodes(n):\n",
    "        nodes = np.random.randint(low=0, high=100, size=(n, 2))\n",
    "        return nodes\n",
    "    \n",
    "    \n",
    "    def generate_network(self, nodes):\n",
    "        n = len(nodes)\n",
    "        network = nx.DiGraph()\n",
    "        network.add_nodes_from(range(n))\n",
    "        pos = dict(\n",
    "            enumerate(zip(nodes[:, 0], nodes[:, 1]))\n",
    "        )\n",
    "        nx.draw_networkx(network, pos=pos, node_color='c')\n",
    "        self.network = network\n",
    "        self.pos = pos \n",
    "        return network\n",
    "        \n",
    "    \n",
    "    @staticmethod\n",
    "    def weights_from_nodes(nodes):\n",
    "        return np.linalg.norm(\n",
    "            nodes[:, None] - nodes[None, :],\n",
    "            axis=-1,\n",
    "        ).astype(np.int64)\n",
    "\n",
    "    \n",
    "    # ランダムに辺を生成する関数(csv以外のパターンも作成したい場合に使用)\n",
    "    def generate_edges(self):\n",
    "        random.seed(0)\n",
    "        for u, v in combinations(range(self.N), 2):\n",
    "            weight = random.randint(1, 100)\n",
    "            self.add_edge(u, v, weight=weight)\n",
    "            self.add_edge(v, u, weight=weight)\n",
    "        for u in range(self.N): \n",
    "            self.add_edge(u, u, weight=0)\n",
    "            \n",
    "            \n",
    "    # ルートの総距離を計算(全探索用)\n",
    "    def calculate_dist(self, route):\n",
    "        n = self.N\n",
    "        source = route[0]\n",
    "        route += [source]\n",
    "        return sum(\n",
    "            self.edges[route[i]][route[i+1]].weight \n",
    "            for i in range(n)\n",
    "        )\n",
    "\n",
    "    \n",
    "    def show_path(self, path):\n",
    "        n = self.N\n",
    "        network = self.network \n",
    "        pos = self.pos\n",
    "        for i in range(n):\n",
    "            network.add_edge(path[i], path[i+1])\n",
    "        nx.draw_networkx(\n",
    "            network, \n",
    "            pos=pos, \n",
    "            node_color='c',\n",
    "        )\n",
    "        plt.show()\n",
    "        self.remove_edges()\n",
    "    \n",
    "    \n",
    "    def remove_edges(self):\n",
    "        network = self.network\n",
    "        network.remove_edges_from(\n",
    "            list(network.edges)\n",
    "        )\n",
    "    \n",
    "\n"
   ],
   "execution_count": 3,
   "outputs": []
  },
  {
   "cell_type": "code",
   "metadata": {
    "id": "FCMQfUD2ePhZ"
   },
   "source": [
    "class TSPBruteForce(Graph):\n",
    "    # 全探索アルゴリズム(DPアルゴリズムとの比較用に、numpyを使わず実装)\n",
    "    def __call__(self, src=0):\n",
    "        n = self.N\n",
    "        stack = [([src], 1<<src)]\n",
    "        dist = float('inf')\n",
    "        calc_count = 0\n",
    "        while stack:\n",
    "            route, visited = stack.pop()\n",
    "            if visited == (1<<n) - 1:\n",
    "                calc_count += 1\n",
    "                d = self.calculate_dist(route)\n",
    "                if d >= dist: continue \n",
    "                dist = d\n",
    "                res_route = route\n",
    "\n",
    "            for i in range(n):\n",
    "                if i==src or visited>>i & 1: continue \n",
    "                nxt_route = route.copy()\n",
    "                nxt_route.append(i)\n",
    "                stack.append((nxt_route, visited|(1<<i)))\n",
    "                \n",
    "        print(f'計算回数: {calc_count}')\n",
    "        return dist, res_route"
   ],
   "execution_count": 4,
   "outputs": []
  },
  {
   "cell_type": "code",
   "metadata": {
    "id": "vVTVUKF_ePhZ"
   },
   "source": [
    "class TSPDP(Graph):\n",
    "    # DPアルゴリズム\n",
    "    def __call__(self, src=0):\n",
    "        n = self.N\n",
    "        dp = [[(inf, None)] * n for _ in range(1<<n)]\n",
    "        dp[1][src] = (0, None)\n",
    "        calc_count = 0\n",
    "        for s in range(1<<n):\n",
    "            for v in range(n):\n",
    "                if s>>v&1: continue\n",
    "                t = s|(1<<v) # tはsにvを追加した集合\n",
    "                for u in range(n):\n",
    "                    if ~s>>u&1: continue\n",
    "                    d = dp[s][u][0] + self.edges[u][v].weight\n",
    "                    if d >= dp[t][v][0]:\n",
    "                        continue\n",
    "                    dp[t][v] = (d, u)\n",
    "                    calc_count += 1\n",
    "\n",
    "        print(f'計算回数: {calc_count}')\n",
    "\n",
    "        dist = inf \n",
    "        predecessor = []\n",
    "        for u in range(1, n):\n",
    "            s = (1 << n) - 1\n",
    "            d = dp[s][u][0] + self.edges[u][src].weight \n",
    "            if d >= dist: continue \n",
    "            dist = d \n",
    "            predecessor = [src]\n",
    "            while True:\n",
    "                v = u\n",
    "                predecessor.append(v)\n",
    "                u = dp[s][v][1]\n",
    "                if u is None: break \n",
    "                s &= ~(1 << v)\n",
    "        \n",
    "        return dist, predecessor[::-1]"
   ],
   "execution_count": 5,
   "outputs": []
  },
  {
   "cell_type": "markdown",
   "metadata": {
    "id": "dF1anykPCH5C"
   },
   "source": [
    "### csvからGraphを生成　"
   ]
  },
  {
   "cell_type": "code",
   "metadata": {
    "id": "IqMPoALHePha"
   },
   "source": [
    "print('DP')\n",
    "g1 = TSPDP.from_csv('4_6_nodes.csv')\n",
    "print('全探索')\n",
    "g2 = TSPBruteForce.from_csv('4_6_nodes.csv')"
   ],
   "execution_count": 6,
   "outputs": [
    {
     "name": "stdout",
     "output_type": "stream",
     "text": [
      "DP\n",
      "頂点数: 11\n",
      "全探索\n",
      "頂点数: 11\n"
     ]
    },
    {
     "data": {
      "text/plain": "<Figure size 640x480 with 1 Axes>",
      "image/png": "[encoded data removed]"
     },
     "metadata": {},
     "output_type": "display_data"
    }
   ]
  },
  {
   "cell_type": "markdown",
   "metadata": {
    "id": "Q1SgBAjuCH5D"
   },
   "source": [
    "### DPにより距離とpathを求める"
   ]
  },
  {
   "cell_type": "code",
   "metadata": {
    "id": "btx91NaiCH5D"
   },
   "source": [
    "%%time\n",
    "d, path = g1(src=0)\n",
    "print(f'距離: {d}')\n",
    "print(f'経路: {path}')"
   ],
   "execution_count": 7,
   "outputs": [
    {
     "name": "stdout",
     "output_type": "stream",
     "text": [
      "計算回数: 10633\n",
      "距離: 331\n",
      "経路: [0, 6, 9, 10, 4, 5, 7, 3, 1, 8, 2, 0]\n",
      "CPU times: total: 31.2 ms\n",
      "Wall time: 203 ms\n"
     ]
    }
   ]
  },
  {
   "cell_type": "markdown",
   "metadata": {
    "id": "h5HzHevPCH5D"
   },
   "source": [
    "### 全探索により距離とpathを求める"
   ]
  },
  {
   "cell_type": "code",
   "metadata": {
    "id": "yvlatnnxCH5D"
   },
   "source": [
    "%%time\n",
    "d, path = g2(src=0)\n",
    "print(f'距離: {d}')\n",
    "print(f'経路: {path}')"
   ],
   "execution_count": null,
   "outputs": []
  },
  {
   "cell_type": "markdown",
   "metadata": {
    "id": "1ytZBU1eePhb"
   },
   "source": [
    "### pathを可視化する"
   ]
  },
  {
   "cell_type": "code",
   "metadata": {
    "id": "c2wsgIrzePhb"
   },
   "source": [
    "g2.show_path(path)"
   ],
   "execution_count": null,
   "outputs": []
  },
  {
   "cell_type": "markdown",
   "metadata": {
    "id": "f7nL5CFzCH5E"
   },
   "source": [
    "## 4-8. 最近傍法によって近似解を求めよう "
   ]
  },
  {
   "cell_type": "markdown",
   "metadata": {
    "id": "QSv1a2NpCH5E"
   },
   "source": [
    "### 最近傍法でTSPを解くクラス"
   ]
  },
  {
   "cell_type": "code",
   "metadata": {
    "id": "tcjxBAnrCH5E"
   },
   "source": [
    "class TSPNearestNeighbour(Graph):\n",
    "    def __call__(self, src=0):\n",
    "        n = self.N\n",
    "        visited = [False] * n \n",
    "        visited[0] = True \n",
    "        dist = 0\n",
    "        u = src # 一つ前の頂点\n",
    "        path = [src]\n",
    "        calc_count = 0\n",
    "        for _ in range(n-1):\n",
    "            cand = []\n",
    "            for v in range(n): # 次に訪れる頂点\n",
    "                calc_count += 1\n",
    "                if visited[v]: continue\n",
    "                cand.append((v, dist + self.edges[u][v].weight))\n",
    "\n",
    "            cand.sort(key=lambda x: x[1])\n",
    "            u, dist = cand[0] # 最も近い頂点へ移動\n",
    "            visited[u] = True\n",
    "            path.append(u)\n",
    "        path.append(src)\n",
    "        print(f'計算回数: {calc_count}')\n",
    "        \n",
    "        return dist + self.edges[u][src].weight, path"
   ],
   "execution_count": null,
   "outputs": []
  },
  {
   "cell_type": "markdown",
   "metadata": {
    "id": "s6GCMQWdCH5F"
   },
   "source": [
    "### csvからGraphを読み込む"
   ]
  },
  {
   "cell_type": "code",
   "metadata": {
    "id": "SqdxdidXCH5F"
   },
   "source": [
    "print('最近傍法')\n",
    "g = TSPNearestNeighbour.from_csv('4_8_nodes.csv')\n",
    "print('DP')\n",
    "g2 = TSPDP.from_csv('4_8_nodes.csv')"
   ],
   "execution_count": null,
   "outputs": []
  },
  {
   "cell_type": "markdown",
   "metadata": {
    "id": "N5_s86zmCH5G"
   },
   "source": [
    "### 最近傍法により距離とpathを求める"
   ]
  },
  {
   "cell_type": "code",
   "metadata": {
    "id": "IIw9fJO9CH5G"
   },
   "source": [
    "%%time\n",
    "d, path = g(src=0)\n",
    "print(f'距離: {d}')\n",
    "print(f'経路: {path}')\n",
    "g.show_path(path)"
   ],
   "execution_count": null,
   "outputs": []
  },
  {
   "cell_type": "markdown",
   "metadata": {
    "id": "dsMB3AvBCH5G"
   },
   "source": [
    "### DPにより距離とpathを求める"
   ]
  },
  {
   "cell_type": "code",
   "metadata": {
    "id": "Zi7kyjEoCH5G"
   },
   "source": [
    "%%time \n",
    "d2, path = g2(src=0)\n",
    "print(f'距離: {d2}')\n",
    "print(f'経路: {path}')\n",
    "g.show_path(path)"
   ],
   "execution_count": null,
   "outputs": []
  },
  {
   "cell_type": "markdown",
   "metadata": {
    "id": "AgroyIyICH5G"
   },
   "source": [
    "### 距離の相対誤差を求める"
   ]
  },
  {
   "cell_type": "code",
   "metadata": {
    "id": "LiVlwxYJCH5H"
   },
   "source": [
    "print(f'相対誤差: {(d-d2)/d2}')"
   ],
   "execution_count": null,
   "outputs": []
  },
  {
   "cell_type": "markdown",
   "metadata": {
    "id": "lemu6cZzCH5H"
   },
   "source": [
    "### 最近傍法による探索の様子を可視化する"
   ]
  },
  {
   "cell_type": "code",
   "metadata": {
    "id": "IfvmJGYTCH5H"
   },
   "source": [
    "import numpy as np \n",
    "np.random.seed(100)\n",
    "import networkx as nx \n",
    "import matplotlib.pyplot as plt \n",
    "\n",
    "n = 8\n",
    "vertices = np.random.randint(1, 100, (n, 2))\n",
    "g = nx.DiGraph()\n",
    "g.add_nodes_from(range(n))\n",
    "pos = dict(enumerate(zip(vertices[:, 0], vertices[:, 1])))\n",
    "print('倉庫の位置関係')\n",
    "nx.draw_networkx(g, pos=pos, node_color='c')\n",
    "plt.show()"
   ],
   "execution_count": null,
   "outputs": []
  },
  {
   "cell_type": "code",
   "metadata": {
    "id": "QwsGM9E5CH5I"
   },
   "source": [
    "dist = vertices[:,None] - vertices[None, :]\n",
    "dist = np.sqrt((dist**2).sum(axis=-1)).astype(int)\n",
    "print('倉庫間距離のマトリックス')\n",
    "print(dist)\n",
    "\n",
    "graph = TSPNearestNeighbour(n)\n",
    "for i in range(n):\n",
    "    for j in range(n):\n",
    "        graph.add_edge(i, j, weight=dist[i,j])"
   ],
   "execution_count": null,
   "outputs": []
  },
  {
   "cell_type": "code",
   "metadata": {
    "id": "vfUtOvTzCH5I"
   },
   "source": [
    "d, path = graph(src=0)\n",
    "n = len(path) - 1\n",
    "for i in range(n):\n",
    "    \n",
    "    nx.draw_networkx(g, pos=pos, node_color='c')\n",
    "    plt.show()\n",
    "    g.add_edge(path[i], path[i+1])\n",
    "nx.draw_networkx(g, pos=pos, node_color='c')\n",
    "plt.show()\n",
    "\n",
    "for i in range(n):\n",
    "    g.remove_edge(path[i], path[i+1])\n"
   ],
   "execution_count": null,
   "outputs": []
  },
  {
   "cell_type": "markdown",
   "metadata": {
    "id": "ClCG8QesCH5I"
   },
   "source": [
    "## 4-10. 遺伝アルゴリズムのソースコードを理解しよう "
   ]
  },
  {
   "cell_type": "code",
   "metadata": {
    "id": "CRx_UttyCH5I"
   },
   "source": [
    "import numpy as np \n",
    "import random\n",
    "import pandas as pd \n",
    "import matplotlib.pyplot as plt\n",
    "import networkx as nx"
   ],
   "execution_count": null,
   "outputs": []
  },
  {
   "cell_type": "markdown",
   "metadata": {
    "id": "DdkkOE13CH5J"
   },
   "source": [
    "### GAによるTSPのソルバークラス"
   ]
  },
  {
   "cell_type": "code",
   "metadata": {
    "id": "M9qLIzppCH5J"
   },
   "source": [
    "# 今回は、便宜上始点と終点を0に固定します。\n",
    "class GATSP:\n",
    "    def __init__(self, n=10):\n",
    "        self.N = n\n",
    "    \n",
    "    def generate_nodes(self):\n",
    "        np.random.seed(0)\n",
    "        self.nodes = np.random.uniform(size=(self.N, 2))\n",
    "        self._dist = np.linalg.norm(\n",
    "            self.nodes[:,None] - self.nodes[None,:], \n",
    "            axis=-1,\n",
    "        )\n",
    "\n",
    "    \n",
    "    @classmethod\n",
    "    def from_csv(cls, path):\n",
    "        nodes = pd.read_csv(path).values\n",
    "        n = nodes.shape[0]\n",
    "        tsp = cls(n)\n",
    "        tsp._dist = np.linalg.norm(\n",
    "            nodes[:,None] - nodes[None,:], \n",
    "            axis=-1,\n",
    "        )\n",
    "        tsp.nodes = nodes\n",
    "        return tsp\n",
    "\n",
    "\n",
    "    def generate_route(self):\n",
    "        return np.random.permutation(np.arange(1, self.N))\n",
    "    \n",
    "    @staticmethod \n",
    "    def routes_from_csv(path):\n",
    "        routes = pd.read_csv(path).values\n",
    "        return routes\n",
    "        \n",
    "        \n",
    "    def init_routes(self, m=100):\n",
    "        routes = np.array([self.generate_route() for _ in range(m)])\n",
    "        return np.pad(routes, pad_width=((0,0), (1,0)), constant_values=0)\n",
    "    \n",
    "    \n",
    "    def dist(self,routes):\n",
    "        routes = np.pad(routes, pad_width=((0,0), (0,1)), constant_values=0)\n",
    "        return self._dist[routes[:,:-1],routes[:,1:]].sum(axis=1)\n",
    "    \n",
    "    \n",
    "    def fitness(self, routes): return 1/self.dist(routes)\n",
    "    \n",
    "    \n",
    "    def select_parents(self, routes, m=None):\n",
    "        if m is None: m = routes.shape[0]//2\n",
    "        assert 2*m <= routes.shape[0]\n",
    "        f = self.fitness(routes)\n",
    "        p = f/f.sum()\n",
    "        pair = np.random.choice(routes.shape[0], (m, 2), replace=True, p=p)\n",
    "        i = np.argsort(routes, axis=1)\n",
    "        return routes[pair], i[pair] \n",
    "    \n",
    "    def crossover(self, routes, m=None):\n",
    "        if m is None: m = routes.shape[0]//2\n",
    "        parents, i = self.select_parents(routes, m)\n",
    "        for j in range(m): # ペアごとに交叉\n",
    "            k = np.random.randint(1,self.N-1)\n",
    "            parents[j,np.arange(2),i[j,np.arange(2),parents[j,::-1,k]]], parents[j,:,k] \\\n",
    "            = parents[j,:,k], parents[j,np.arange(2),i[j,np.arange(2),parents[j,::-1,k]]]\n",
    "        childs = parents.reshape(-1, self.N)\n",
    "        return childs\n",
    "\n",
    "    def mutate(self, routes, p=0.7):\n",
    "        m = routes.shape[0]\n",
    "        bl = np.random.choice((0,1), m, replace=True, p=(1-p, p)).astype(bool) #突然変異を起こす確率を指定\n",
    "        k = np.arange(m)[bl]\n",
    "        i, j = np.random.randint(1, self.N-1, (m, 2))[bl].T\n",
    "        routes[k,i], routes[k,j] = routes[k,j], routes[k,i]\n",
    "        return routes\n",
    "        \n",
    "        \n",
    "    def extract_elites(self, routes, elite_cnt):\n",
    "        return routes[np.argsort(self.fitness(routes))[-elite_cnt:]]\n",
    "\n",
    "    \n",
    "    def generate_nxt(self, routes, elite_cnt=2):\n",
    "        elites = self.extract_elites(routes, elite_cnt)\n",
    "        childs = self.crossover(routes, m=(routes.shape[0]-elite_cnt)//2)\n",
    "        childs = self.mutate(childs)\n",
    "        return np.vstack([elites, childs])\n",
    "    \n",
    "    \n",
    "    def show(self, routes):\n",
    "        path = list(routes[np.argsort(tsp.dist(routes))][0])+[0]\n",
    "        plt.figure(figsize=(15,10))\n",
    "        g = nx.DiGraph()\n",
    "        g.add_nodes_from(range(n))\n",
    "        pos = dict(enumerate(zip(tsp.nodes[:, 0], tsp.nodes[:, 1])))\n",
    "        nx.draw_networkx(g, pos=pos, node_color='c')\n",
    "        for i in range(len(path)-1):\n",
    "            g.add_edge(path[i], path[i+1])\n",
    "        nx.draw_networkx(g, pos=pos, node_color='c')\n",
    "        plt.show()\n",
    "        plt.clf()\n"
   ],
   "execution_count": null,
   "outputs": []
  },
  {
   "cell_type": "markdown",
   "metadata": {
    "id": "xIzmDMitCH5J"
   },
   "source": [
    "### 倉庫(nodes)の座標をcsvから読み込み、ソルバーインスタンスを生成"
   ]
  },
  {
   "cell_type": "code",
   "metadata": {
    "id": "6smm9srKCH5J"
   },
   "source": [
    "tsp = GATSP.from_csv('4_10_nodes.csv') \n",
    "n = len(tsp.nodes)\n",
    "routes = tsp.routes_from_csv('4_10_routes.csv')\n",
    "print('第0世代の経路群')\n",
    "print(routes)"
   ],
   "execution_count": null,
   "outputs": []
  },
  {
   "cell_type": "markdown",
   "metadata": {
    "id": "O-fTPkJoCH5J"
   },
   "source": [
    "### 遺伝的アルゴリズムを適応\n",
    "1000世代ごとに最短経路を出力"
   ]
  },
  {
   "cell_type": "code",
   "metadata": {
    "id": "028vHCSrCH5J"
   },
   "source": [
    "for i in range(2001):\n",
    "    routes = tsp.generate_nxt(routes)\n",
    "    if i % 1000 == 0:\n",
    "        print(f'第{i}世代')\n",
    "        tsp.show(routes)"
   ],
   "execution_count": null,
   "outputs": []
  },
  {
   "cell_type": "code",
   "metadata": {
    "id": "G0UIWnsHCH5K"
   },
   "source": [],
   "execution_count": null,
   "outputs": []
  }
 ]
}
