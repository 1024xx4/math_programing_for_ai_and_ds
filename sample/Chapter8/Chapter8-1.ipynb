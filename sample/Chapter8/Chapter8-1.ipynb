{
 "cells": [
  {
   "cell_type": "markdown",
   "metadata": {
    "id": "EJnzjPulgiuR"
   },
   "source": [
    "# 第8章 深層学習による画像認識とその仕組みを知ろう\n",
    "\n",
    "ここでは、深層学習を学ぶうえで必要なプログラムを実行していく流れを学んでいきます。  \n",
    "\n",
    "※エラーが出る場合は、Clear Output を行うことで正常に動く場合があります。"
   ]
  },
  {
   "cell_type": "code",
   "execution_count": null,
   "metadata": {
    "id": "Ggab86bxa5zy"
   },
   "outputs": [],
   "source": [
    "#Colaboratory環境の設定\n",
    "from google.colab import drive\n",
    "drive.mount('/content/drive')\n",
    "%cd /content/drive/MyDrive/MathProgramming/Chapter8"
   ]
  },
  {
   "cell_type": "code",
   "execution_count": null,
   "metadata": {
    "id": "buTLEYXHhA_6"
   },
   "outputs": [],
   "source": [
    "#ライブラリの設定\n",
    "!pip install -q -r ./requirements.txt"
   ]
  },
  {
   "cell_type": "markdown",
   "metadata": {
    "id": "tIPfsEyjgiuX"
   },
   "source": [
    "## 8-1 深層学習って何ができるの？"
   ]
  },
  {
   "cell_type": "markdown",
   "metadata": {
    "id": "yQk7qjQDgiuX"
   },
   "source": [
    "### 画像読み込み"
   ]
  },
  {
   "cell_type": "code",
   "execution_count": null,
   "metadata": {
    "id": "GZ4RAgo7giuX"
   },
   "outputs": [],
   "source": [
    "from PIL import Image\n",
    "\n",
    "# 画像読み込み\n",
    "filename = \"vegi.png\"\n",
    "im = Image.open(filename)\n",
    "\n",
    "# 表示\n",
    "im"
   ]
  },
  {
   "cell_type": "markdown",
   "metadata": {
    "id": "JOy7gH62giuY"
   },
   "source": [
    "### 物体認識"
   ]
  },
  {
   "cell_type": "code",
   "execution_count": null,
   "metadata": {
    "id": "XAjEeMQzgiuY"
   },
   "outputs": [],
   "source": [
    "from tensorflow.keras.applications.vgg16 import VGG16, preprocess_input, decode_predictions\n",
    "from tensorflow.keras.preprocessing import image\n",
    "import numpy as np\n",
    "\n",
    "# 学習済みのVGG16をロード\n",
    "model = VGG16(weights='imagenet')\n",
    "\n",
    "# 画像ファイル読み込み(224x224にリサイズ)\n",
    "img = image.load_img(filename, target_size=(224, 224))\n",
    "x = image.img_to_array(img)\n",
    "x = np.expand_dims(x, axis=0)\n",
    "\n",
    "# 上位5位までのクラスを予測する\n",
    "preds = model.predict(preprocess_input(x))\n",
    "results = decode_predictions(preds, top=5)[0]\n",
    "for result in results:\n",
    "    print(result[1],result[2])"
   ]
  },
  {
   "cell_type": "markdown",
   "metadata": {
    "id": "QIgIcsFNgiuZ"
   },
   "source": [
    "## 8-3 深層学習の「学習」はどうやって進むの？"
   ]
  },
  {
   "cell_type": "markdown",
   "metadata": {
    "id": "nrF26FtIgiuZ"
   },
   "source": [
    "### データ読み込み"
   ]
  },
  {
   "cell_type": "code",
   "execution_count": 1,
   "metadata": {
    "id": "qXhSScZfgiuZ"
   },
   "outputs": [
    {
     "data": {
      "text/plain": "<Figure size 640x480 with 1 Axes>",
      "image/png": "[encoded data removed]"
     },
     "metadata": {},
     "output_type": "display_data"
    }
   ],
   "source": [
    "import numpy as np\n",
    "import matplotlib.pyplot as plt\n",
    "import pandas as pd\n",
    "\n",
    "# データ読み込み\n",
    "df_sample = pd.read_csv(\"sample_2d.csv\")\n",
    "sample = df_sample.values\n",
    "\n",
    "# 読み込みデータ可視化\n",
    "for i in range(len(sample)):\n",
    "    if int(sample[i][2])==0:\n",
    "        plt.scatter(sample[i][0],sample[i][1],marker=\"o\",color=\"k\")\n",
    "    else:\n",
    "        plt.scatter(sample[i][0],sample[i][1],marker=\"s\",color=\"k\")\n",
    "plt.show()\n",
    "%matplotlib inline"
   ]
  },
  {
   "cell_type": "markdown",
   "metadata": {
    "id": "s9QoQEucgiua"
   },
   "source": [
    "### Kerasによる分類"
   ]
  },
  {
   "cell_type": "code",
   "execution_count": 3,
   "metadata": {
    "id": "FDWtw-hXgiua"
   },
   "outputs": [
    {
     "name": "stdout",
     "output_type": "stream",
     "text": [
      "20/20 [==============================] - 0s 1ms/step - loss: 0.6040 - accuracy: 0.6050\n"
     ]
    },
    {
     "ename": "AttributeError",
     "evalue": "'Sequential' object has no attribute 'predict_classes'",
     "output_type": "error",
     "traceback": [
      "\u001B[1;31m---------------------------------------------------------------------------\u001B[0m",
      "\u001B[1;31mAttributeError\u001B[0m                            Traceback (most recent call last)",
      "Cell \u001B[1;32mIn [3], line 25\u001B[0m\n\u001B[0;32m     22\u001B[0m model\u001B[38;5;241m.\u001B[39mfit(data, labels, epochs\u001B[38;5;241m=\u001B[39mnum_epochs, batch_size\u001B[38;5;241m=\u001B[39m\u001B[38;5;241m10\u001B[39m)\n\u001B[0;32m     24\u001B[0m \u001B[38;5;66;03m# 分類結果出力\u001B[39;00m\n\u001B[1;32m---> 25\u001B[0m predicted_classes \u001B[38;5;241m=\u001B[39m \u001B[43mmodel\u001B[49m\u001B[38;5;241;43m.\u001B[39;49m\u001B[43mpredict_classes\u001B[49m(data, batch_size\u001B[38;5;241m=\u001B[39m\u001B[38;5;241m10\u001B[39m)\n\u001B[0;32m     27\u001B[0m \u001B[38;5;66;03m# 分類結果可視化\u001B[39;00m\n\u001B[0;32m     28\u001B[0m \u001B[38;5;28;01mfor\u001B[39;00m i \u001B[38;5;129;01min\u001B[39;00m \u001B[38;5;28mrange\u001B[39m(\u001B[38;5;28mlen\u001B[39m(sample)):\n\u001B[0;32m     29\u001B[0m     \u001B[38;5;66;03m# 分類結果を色で表示\u001B[39;00m\n",
      "\u001B[1;31mAttributeError\u001B[0m: 'Sequential' object has no attribute 'predict_classes'"
     ]
    }
   ],
   "source": [
    "from tensorflow.keras.models import Sequential\n",
    "from tensorflow.keras.layers import Dense, Activation\n",
    "import numpy as np\n",
    "import matplotlib.pyplot as plt\n",
    "import pandas as pd\n",
    "\n",
    "# パラメータ設定\n",
    "num_epochs = 1\n",
    "\n",
    "# モデル作成\n",
    "model = Sequential()\n",
    "model.add(Dense(32, activation='relu', input_dim=2))\n",
    "model.add(Dense(32, activation='relu', input_dim=2))\n",
    "model.add(Dense(1, activation='sigmoid'))\n",
    "model.compile(optimizer='rmsprop',\n",
    "              loss='binary_crossentropy',\n",
    "              metrics=['accuracy'])\n",
    " \n",
    "# トレーニング（分類）\n",
    "data = sample[:,0:2]\n",
    "labels = sample[:,2].reshape(-1, 1)\n",
    "model.fit(data, labels, epochs=num_epochs, batch_size=10)\n",
    " \n",
    "# 分類結果出力\n",
    "predicted_classes = np.argmax(model.predict(data, batch_size=10), axis=1)\n",
    "\n",
    "# 分類結果可視化\n",
    "for i in range(len(sample)):\n",
    "    # 分類結果を色で表示\n",
    "    if int(predicted_classes[i])==0:\n",
    "        target_color = \"r\"\n",
    "    else:\n",
    "        target_color = \"b\"\n",
    "    # 実際のクラスをマーカーで表示\n",
    "    if int(sample[i][2])==0:\n",
    "        target_marker = \"o\"\n",
    "    else:\n",
    "        target_marker = \"s\"\n",
    "    plt.scatter(sample[i][0],sample[i][1],marker=target_marker,color=target_color)\n",
    "plt.show()\n",
    "%matplotlib inline"
   ]
  },
  {
   "cell_type": "markdown",
   "metadata": {
    "id": "MFbaU2Gtgiub"
   },
   "source": [
    "## 8-4 深層学習ライブラリを使って直線グラフを予測してみよう"
   ]
  },
  {
   "cell_type": "markdown",
   "metadata": {
    "id": "Ukp7nHmmgiub"
   },
   "source": [
    "### データ読み込み"
   ]
  },
  {
   "cell_type": "code",
   "execution_count": null,
   "metadata": {
    "id": "ZiW9R3tNgiub"
   },
   "outputs": [],
   "source": [
    "import numpy as np\n",
    "import matplotlib.pyplot as plt\n",
    "import pandas as pd\n",
    "\n",
    "# データ読み込み\n",
    "df_sample = pd.read_csv(\"sample_linear.csv\")\n",
    "sample = df_sample.values\n",
    "\n",
    "# 読み込みデータ可視化\n",
    "x = sample[:,0]\n",
    "y = sample[:,1]\n",
    "plt.scatter(x,y,marker=\".\",color=\"k\")\n",
    "plt.show()\n",
    "%matplotlib inline"
   ]
  },
  {
   "cell_type": "markdown",
   "metadata": {
    "id": "DBmCoCtygiuc"
   },
   "source": [
    "### Kerasによる直線近似"
   ]
  },
  {
   "cell_type": "code",
   "execution_count": null,
   "metadata": {
    "id": "yW0NigZvgiuc"
   },
   "outputs": [],
   "source": [
    "import numpy as np\n",
    "import matplotlib.pyplot as plt\n",
    "from tensorflow.keras.models import Sequential\n",
    "from tensorflow.keras.layers import Dense\n",
    "\n",
    "# パラメータ設定\n",
    "num_epochs = 1\n",
    "\n",
    "# モデル作成\n",
    "model = Sequential()\n",
    "model.add(Dense(20, activation=\"tanh\", input_dim=1))\n",
    "model.add(Dense(20, activation=\"tanh\"))\n",
    "model.add(Dense(1))\n",
    "model.add(Dense(1, input_dim=1))\n",
    "\n",
    "# 最適化計算\n",
    "model.compile(optimizer='sgd',\n",
    "              loss='mean_squared_error')\n",
    "\n",
    "# トレーニング(曲線近似)\n",
    "model.fit(x, y,batch_size=100,epochs=num_epochs)\n",
    "\n",
    "# 予測結果出力\n",
    "pred = model.predict(x)\n",
    "\n",
    "# 予測結果可視化\n",
    "plt.plot(x, y, color=\"k\")\n",
    "plt.plot(x, pred, color=\"r\")\n",
    "plt.show()"
   ]
  },
  {
   "cell_type": "markdown",
   "metadata": {
    "id": "ZZp8ZSDfgiud"
   },
   "source": [
    "## 8-5 深層学習ライブラリを使って曲線グラフを予測してみよう"
   ]
  },
  {
   "cell_type": "markdown",
   "metadata": {
    "id": "40lOAvbsgiud"
   },
   "source": [
    "### データ読み込み"
   ]
  },
  {
   "cell_type": "code",
   "execution_count": null,
   "metadata": {
    "id": "XPFmEx81giud"
   },
   "outputs": [],
   "source": [
    "import numpy as np\n",
    "import matplotlib.pyplot as plt\n",
    "import pandas as pd\n",
    "\n",
    "# データ読み込み\n",
    "df_sample = pd.read_csv(\"sample_sin.csv\")\n",
    "sample = df_sample.values\n",
    "\n",
    "# 読み込みデータ可視化\n",
    "x = sample[:,0]\n",
    "y = sample[:,1]\n",
    "plt.scatter(x,y,marker=\".\",color=\"k\")\n",
    "plt.show()\n",
    "%matplotlib inline"
   ]
  },
  {
   "cell_type": "markdown",
   "metadata": {
    "id": "FFSKWZ3tgiud"
   },
   "source": [
    "### Kerasによる曲線近似"
   ]
  },
  {
   "cell_type": "code",
   "execution_count": null,
   "metadata": {
    "id": "HWNc72aogiue"
   },
   "outputs": [],
   "source": [
    "import numpy as np\n",
    "import matplotlib.pyplot as plt\n",
    "from tensorflow.keras.models import Sequential\n",
    "from tensorflow.keras.layers import Dense\n",
    "\n",
    "# パラメータ設定\n",
    "num_epochs = 1\n",
    "\n",
    "# モデル作成\n",
    "model = Sequential()\n",
    "model.add(Dense(20, activation=\"tanh\", input_dim=1))\n",
    "model.add(Dense(20, activation=\"tanh\"))\n",
    "model.add(Dense(1))\n",
    "model.add(Dense(1, input_dim=1))\n",
    "\n",
    "# 最適化計算\n",
    "model.compile(optimizer='sgd',\n",
    "              loss='mean_squared_error')\n",
    "\n",
    "# トレーニング(曲線近似)\n",
    "model.fit(x, y,batch_size=100,epochs=num_epochs)\n",
    "\n",
    "# 予測結果出力\n",
    "pred = model.predict(x)\n",
    "\n",
    "# 予測結果可視化\n",
    "plt.plot(x, y, color=\"k\")\n",
    "plt.plot(x, pred, color=\"r\")\n",
    "plt.show()"
   ]
  }
 ],
 "metadata": {
  "colab": {
   "collapsed_sections": [],
   "name": "Chapter8-1.ipynb",
   "provenance": [],
   "toc_visible": true
  },
  "kernelspec": {
   "display_name": "Python 3",
   "language": "python",
   "name": "python3"
  },
  "language_info": {
   "codemirror_mode": {
    "name": "ipython",
    "version": 3
   },
   "file_extension": ".py",
   "mimetype": "text/x-python",
   "name": "python",
   "nbconvert_exporter": "python",
   "pygments_lexer": "ipython3",
   "version": "3.7.6"
  }
 },
 "nbformat": 4,
 "nbformat_minor": 0
}
